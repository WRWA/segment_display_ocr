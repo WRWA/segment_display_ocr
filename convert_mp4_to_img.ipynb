{
 "cells": [
  {
   "cell_type": "code",
   "execution_count": 2,
   "metadata": {},
   "outputs": [],
   "source": [
    "import cv2\n",
    "import numpy as np\n",
    "import pandas as pd\n",
    "import matplotlib.pyplot as plt"
   ]
  },
  {
   "cell_type": "code",
   "execution_count": 3,
   "metadata": {},
   "outputs": [
    {
     "name": "stdout",
     "output_type": "stream",
     "text": [
      "1837 720 1280 29.97002997002997\n"
     ]
    }
   ],
   "source": [
    "# read mp4 file and convert to image\n",
    "video_file = './test.mp4'\n",
    "cap = cv2.VideoCapture(video_file)\n",
    "frame_count = int(cap.get(cv2.CAP_PROP_FRAME_COUNT))\n",
    "frame_width = int(cap.get(cv2.CAP_PROP_FRAME_WIDTH))\n",
    "frame_height = int(cap.get(cv2.CAP_PROP_FRAME_HEIGHT))\n",
    "fps = cap.get(cv2.CAP_PROP_FPS)\n",
    "print(frame_count, frame_width, frame_height, fps)\n",
    "_, img = cap.read()\n",
    "\n",
    "# save\n",
    "save_path = './digit_images/'\n",
    "for i in range(frame_count):\n",
    "    # save image for every 30 frames == 1 second\n",
    "    if i % 30 == 0:\n",
    "        # resize image\n",
    "        img = cv2.resize(img, (360, 640))\n",
    "        cv2.imwrite(save_path + str(int(i/30)) + '.png', img)\n",
    "    _, img = cap.read()\n",
    "\n",
    "\n",
    "cap.release()\n",
    "\n"
   ]
  },
  {
   "cell_type": "code",
   "execution_count": 6,
   "metadata": {},
   "outputs": [],
   "source": [
    "\n"
   ]
  },
  {
   "cell_type": "code",
   "execution_count": null,
   "metadata": {},
   "outputs": [],
   "source": []
  }
 ],
 "metadata": {
  "kernelspec": {
   "display_name": "Python 3.7.5 ('torch17': venv)",
   "language": "python",
   "name": "python3"
  },
  "language_info": {
   "codemirror_mode": {
    "name": "ipython",
    "version": 3
   },
   "file_extension": ".py",
   "mimetype": "text/x-python",
   "name": "python",
   "nbconvert_exporter": "python",
   "pygments_lexer": "ipython3",
   "version": "3.7.5"
  },
  "orig_nbformat": 4,
  "vscode": {
   "interpreter": {
    "hash": "21ee5d4d0561562152a0bca46dd143d97f0a188b53bd43fcfa611dd40e3b7be9"
   }
  }
 },
 "nbformat": 4,
 "nbformat_minor": 2
}
